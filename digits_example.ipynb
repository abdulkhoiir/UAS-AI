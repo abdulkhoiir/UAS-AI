{
 "cells": [
  {
   "cell_type": "code",
   "execution_count": 1,
   "metadata": {},
   "outputs": [],
   "source": [
    "import numpy as np\n",
    "import matplotlib.pyplot as plt\n",
    "%matplotlib inline \n",
    "import seaborn as sns"
   ]
  },
  {
   "cell_type": "code",
   "execution_count": 2,
   "metadata": {},
   "outputs": [],
   "source": [
    "from sklearn.datasets import load_digits\n",
    "from sklearn.model_selection import train_test_split\n",
    "from sklearn.neural_network import MLPClassifier\n",
    "from sklearn.model_selection import train_test_split\n",
    "from sklearn.metrics import accuracy_score\n",
    "from sklearn.metrics import confusion_matrix\n",
    "from sklearn import datasets\n",
    "from mpl_toolkits.mplot3d import Axes3D\n",
    "from sklearn.decomposition import PCA"
   ]
  },
  {
   "cell_type": "code",
   "execution_count": 5,
   "metadata": {},
   "outputs": [],
   "source": [
    "digits = load_digits()\n",
    "iris = datasets.load_iris()"
   ]
  },
  {
   "cell_type": "code",
   "execution_count": 6,
   "metadata": {},
   "outputs": [
    {
     "data": {
      "text/plain": [
       "['sepal length (cm)',\n",
       " 'sepal width (cm)',\n",
       " 'petal length (cm)',\n",
       " 'petal width (cm)']"
      ]
     },
     "execution_count": 6,
     "metadata": {},
     "output_type": "execute_result"
    }
   ],
   "source": [
    "iris.feature_names"
   ]
  },
  {
   "cell_type": "code",
   "execution_count": 7,
   "metadata": {},
   "outputs": [
    {
     "data": {
      "text/plain": [
       "(1797, 64)"
      ]
     },
     "execution_count": 7,
     "metadata": {},
     "output_type": "execute_result"
    }
   ],
   "source": [
    "digits.data.shape"
   ]
  },
  {
   "cell_type": "code",
   "execution_count": 8,
   "metadata": {},
   "outputs": [
    {
     "data": {
      "text/plain": [
       "array([ 0.,  0., 10., 14., 11.,  3.,  0.,  0.,  0.,  4., 16., 13.,  6.,\n",
       "       14.,  1.,  0.,  0.,  4., 16.,  2.,  0., 11.,  7.,  0.,  0.,  8.,\n",
       "       16.,  0.,  0., 10.,  5.,  0.,  0.,  8., 16.,  0.,  0., 14.,  4.,\n",
       "        0.,  0.,  8., 16.,  0.,  1., 16.,  1.,  0.,  0.,  4., 16.,  1.,\n",
       "       11., 15.,  0.,  0.,  0.,  0., 11., 16., 12.,  3.,  0.,  0.])"
      ]
     },
     "execution_count": 8,
     "metadata": {},
     "output_type": "execute_result"
    }
   ],
   "source": [
    "digits.data[30]\n"
   ]
  },
  {
   "cell_type": "code",
   "execution_count": 9,
   "metadata": {},
   "outputs": [
    {
     "data": {
      "text/plain": [
       "array([0, 1, 2, 3, 4, 5, 6, 7, 8, 9])"
      ]
     },
     "execution_count": 9,
     "metadata": {},
     "output_type": "execute_result"
    }
   ],
   "source": [
    "digits.target_names"
   ]
  },
  {
   "cell_type": "code",
   "execution_count": 10,
   "metadata": {},
   "outputs": [
    {
     "data": {
      "text/plain": [
       "(1797,)"
      ]
     },
     "execution_count": 10,
     "metadata": {},
     "output_type": "execute_result"
    }
   ],
   "source": [
    "digits.target.shape"
   ]
  },
  {
   "cell_type": "code",
   "execution_count": 11,
   "metadata": {},
   "outputs": [
    {
     "data": {
      "text/plain": [
       "0"
      ]
     },
     "execution_count": 11,
     "metadata": {},
     "output_type": "execute_result"
    }
   ],
   "source": [
    "digits.target[30]"
   ]
  },
  {
   "cell_type": "code",
   "execution_count": 12,
   "metadata": {},
   "outputs": [
    {
     "data": {
      "text/plain": [
       "<matplotlib.image.AxesImage at 0x14e06ce4e48>"
      ]
     },
     "execution_count": 12,
     "metadata": {},
     "output_type": "execute_result"
    },
    {
     "data": {
      "text/plain": [
       "<Figure size 432x288 with 0 Axes>"
      ]
     },
     "metadata": {},
     "output_type": "display_data"
    },
    {
     "data": {
      "image/png": "[encoded data removed]",
      "text/plain": [
       "<Figure size 288x288 with 1 Axes>"
      ]
     },
     "metadata": {
      "needs_background": "light"
     },
     "output_type": "display_data"
    }
   ],
   "source": [
    "import matplotlib.pyplot as plt \n",
    "plt.gray() \n",
    "plt.matshow(digits.images[30]) \n"
   ]
  },
  {
   "cell_type": "code",
   "execution_count": 13,
   "metadata": {},
   "outputs": [],
   "source": [
    "X = digits.data\n",
    "y = digits.target\n",
    "# Membagi data training dan testing(80:20)\n",
    "x_train, x_test, y_train, y_test = train_test_split(X,y, test_size= 0.2, random_state=1)"
   ]
  },
  {
   "cell_type": "code",
   "execution_count": 14,
   "metadata": {},
   "outputs": [
    {
     "data": {
      "text/plain": [
       "(1437, 64)"
      ]
     },
     "execution_count": 14,
     "metadata": {},
     "output_type": "execute_result"
    }
   ],
   "source": [
    "x_train.shape"
   ]
  },
  {
   "cell_type": "code",
   "execution_count": 15,
   "metadata": {},
   "outputs": [
    {
     "data": {
      "text/plain": [
       "(360, 64)"
      ]
     },
     "execution_count": 15,
     "metadata": {},
     "output_type": "execute_result"
    }
   ],
   "source": [
    "x_test.shape"
   ]
  },
  {
   "cell_type": "code",
   "execution_count": 18,
   "metadata": {},
   "outputs": [],
   "source": [
    "clf = MLPClassifier(hidden_layer_sizes=(30,30,30),  max_iter=100, alpha=0.0001,activation='relu',\n",
    "                     solver='adam', verbose=10,  random_state=21,tol=0.000000001)"
   ]
  },
  {
   "cell_type": "code",
   "execution_count": 19,
   "metadata": {},
   "outputs": [
    {
     "name": "stdout",
     "output_type": "stream",
     "text": [
      "Iteration 1, loss = 5.26079000\n",
      "Iteration 2, loss = 3.01372486\n",
      "Iteration 3, loss = 2.12955663\n",
      "Iteration 4, loss = 1.70457514\n",
      "Iteration 5, loss = 1.45396519\n",
      "Iteration 6, loss = 1.27893033\n",
      "Iteration 7, loss = 1.13262326\n",
      "Iteration 8, loss = 0.99406613\n",
      "Iteration 9, loss = 0.87302271\n",
      "Iteration 10, loss = 0.75967426\n",
      "Iteration 11, loss = 0.66176446\n",
      "Iteration 12, loss = 0.58219717\n",
      "Iteration 13, loss = 0.51317962\n",
      "Iteration 14, loss = 0.45556100\n",
      "Iteration 15, loss = 0.40668254\n",
      "Iteration 16, loss = 0.36465896\n",
      "Iteration 17, loss = 0.32373532\n",
      "Iteration 18, loss = 0.29455819\n",
      "Iteration 19, loss = 0.26760758\n",
      "Iteration 20, loss = 0.24092497\n",
      "Iteration 21, loss = 0.21905790\n",
      "Iteration 22, loss = 0.20448927\n",
      "Iteration 23, loss = 0.18512838\n",
      "Iteration 24, loss = 0.17103777\n",
      "Iteration 25, loss = 0.15912452\n",
      "Iteration 26, loss = 0.14780368\n",
      "Iteration 27, loss = 0.13715234\n",
      "Iteration 28, loss = 0.12811813\n",
      "Iteration 29, loss = 0.11987279\n",
      "Iteration 30, loss = 0.11261146\n",
      "Iteration 31, loss = 0.10558348\n",
      "Iteration 32, loss = 0.10047669\n",
      "Iteration 33, loss = 0.09502400\n",
      "Iteration 34, loss = 0.09076221\n",
      "Iteration 35, loss = 0.08395011\n",
      "Iteration 36, loss = 0.07912537\n",
      "Iteration 37, loss = 0.07555884\n",
      "Iteration 38, loss = 0.07038219\n",
      "Iteration 39, loss = 0.06969811\n",
      "Iteration 40, loss = 0.06571587\n",
      "Iteration 41, loss = 0.06157255\n",
      "Iteration 42, loss = 0.05800066\n",
      "Iteration 43, loss = 0.05685763\n",
      "Iteration 44, loss = 0.05272132\n",
      "Iteration 45, loss = 0.05130431\n",
      "Iteration 46, loss = 0.04872086\n",
      "Iteration 47, loss = 0.04673480\n",
      "Iteration 48, loss = 0.04361292\n",
      "Iteration 49, loss = 0.04156116\n",
      "Iteration 50, loss = 0.03920355\n",
      "Iteration 51, loss = 0.03774889\n",
      "Iteration 52, loss = 0.03528161\n",
      "Iteration 53, loss = 0.03416153\n",
      "Iteration 54, loss = 0.03388728\n",
      "Iteration 55, loss = 0.03286353\n",
      "Iteration 56, loss = 0.03106437\n",
      "Iteration 57, loss = 0.02878543\n",
      "Iteration 58, loss = 0.02762809\n",
      "Iteration 59, loss = 0.02608330\n",
      "Iteration 60, loss = 0.02463914\n",
      "Iteration 61, loss = 0.02396924\n",
      "Iteration 62, loss = 0.02262978\n",
      "Iteration 63, loss = 0.02296640\n",
      "Iteration 64, loss = 0.02112632\n",
      "Iteration 65, loss = 0.02016738\n",
      "Iteration 66, loss = 0.01928809\n",
      "Iteration 67, loss = 0.01855495\n",
      "Iteration 68, loss = 0.01745911\n",
      "Iteration 69, loss = 0.01663506\n",
      "Iteration 70, loss = 0.01589118\n",
      "Iteration 71, loss = 0.01525074\n",
      "Iteration 72, loss = 0.01479674\n",
      "Iteration 73, loss = 0.01482698\n",
      "Iteration 74, loss = 0.01363093\n",
      "Iteration 75, loss = 0.01322950\n",
      "Iteration 76, loss = 0.01255584\n",
      "Iteration 77, loss = 0.01192608\n",
      "Iteration 78, loss = 0.01166189\n",
      "Iteration 79, loss = 0.01200184\n",
      "Iteration 80, loss = 0.01177862\n",
      "Iteration 81, loss = 0.01056861\n",
      "Iteration 82, loss = 0.01024366\n",
      "Iteration 83, loss = 0.00987907\n",
      "Iteration 84, loss = 0.00951607\n",
      "Iteration 85, loss = 0.00911166\n",
      "Iteration 86, loss = 0.00893197\n",
      "Iteration 87, loss = 0.00877357\n",
      "Iteration 88, loss = 0.00847019\n",
      "Iteration 89, loss = 0.00822156\n",
      "Iteration 90, loss = 0.00788341\n",
      "Iteration 91, loss = 0.00772979\n",
      "Iteration 92, loss = 0.00754957\n",
      "Iteration 93, loss = 0.00713946\n",
      "Iteration 94, loss = 0.00699086\n",
      "Iteration 95, loss = 0.00693449\n",
      "Iteration 96, loss = 0.00651672\n",
      "Iteration 97, loss = 0.00641256\n",
      "Iteration 98, loss = 0.00619133\n",
      "Iteration 99, loss = 0.00614068\n",
      "Iteration 100, loss = 0.00599658\n"
     ]
    },
    {
     "name": "stderr",
     "output_type": "stream",
     "text": [
      "c:\\users\\user\\appdata\\local\\programs\\python\\python37\\lib\\site-packages\\sklearn\\neural_network\\multilayer_perceptron.py:562: ConvergenceWarning: Stochastic Optimizer: Maximum iterations (100) reached and the optimization hasn't converged yet.\n",
      "  % self.max_iter, ConvergenceWarning)\n"
     ]
    }
   ],
   "source": [
    "clf.fit(x_train, y_train)\n",
    "y_pred = clf.predict(x_test)"
   ]
  },
  {
   "cell_type": "code",
   "execution_count": null,
   "metadata": {},
   "outputs": [],
   "source": []
  }
 ],
 "metadata": {
  "kernelspec": {
   "display_name": "Python 3",
   "language": "python",
   "name": "python3"
  },
  "language_info": {
   "codemirror_mode": {
    "name": "ipython",
    "version": 3
   },
   "file_extension": ".py",
   "mimetype": "text/x-python",
   "name": "python",
   "nbconvert_exporter": "python",
   "pygments_lexer": "ipython3",
   "version": "3.7.0"
  }
 },
 "nbformat": 4,
 "nbformat_minor": 2
}
